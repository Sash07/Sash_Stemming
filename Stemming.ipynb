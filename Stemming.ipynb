{
 "cells": [
  {
   "cell_type": "code",
   "execution_count": 2,
   "id": "be707861",
   "metadata": {},
   "outputs": [
    {
     "name": "stdout",
     "output_type": "stream",
     "text": [
      "Requirement already satisfied: nltk in c:\\users\\smart\\anaconda3\\lib\\site-packages (3.7)\n",
      "Requirement already satisfied: click in c:\\users\\smart\\anaconda3\\lib\\site-packages (from nltk) (8.0.4)\n",
      "Requirement already satisfied: joblib in c:\\users\\smart\\anaconda3\\lib\\site-packages (from nltk) (1.1.1)\n",
      "Requirement already satisfied: regex>=2021.8.3 in c:\\users\\smart\\anaconda3\\lib\\site-packages (from nltk) (2022.7.9)\n",
      "Requirement already satisfied: tqdm in c:\\users\\smart\\anaconda3\\lib\\site-packages (from nltk) (4.64.1)\n",
      "Requirement already satisfied: colorama in c:\\users\\smart\\anaconda3\\lib\\site-packages (from click->nltk) (0.4.6)\n"
     ]
    }
   ],
   "source": [
    "!pip install nltk\n",
    "import nltk"
   ]
  },
  {
   "cell_type": "code",
   "execution_count": 3,
   "id": "3626d06d",
   "metadata": {},
   "outputs": [],
   "source": [
    "from nltk.stem import PorterStemmer"
   ]
  },
  {
   "cell_type": "code",
   "execution_count": 4,
   "id": "99720c5f",
   "metadata": {},
   "outputs": [],
   "source": [
    "poter_stem=PorterStemmer()"
   ]
  },
  {
   "cell_type": "code",
   "execution_count": 5,
   "id": "46918622",
   "metadata": {},
   "outputs": [],
   "source": [
    "words=[\"running\",'jumped',\"quickly\",\"foxes\",\"jumping\",\"unable\"]"
   ]
  },
  {
   "cell_type": "code",
   "execution_count": 6,
   "id": "f263dd44",
   "metadata": {},
   "outputs": [],
   "source": [
    "after_stem=[]\n",
    "for word in words:\n",
    "    new_word=poter_stem.stem(word)\n",
    "    after_stem.append(new_word)"
   ]
  },
  {
   "cell_type": "code",
   "execution_count": 7,
   "id": "829e16a5",
   "metadata": {},
   "outputs": [
    {
     "name": "stdout",
     "output_type": "stream",
     "text": [
      "Original words:  ['running', 'jumped', 'quickly', 'foxes', 'jumping', 'unable']\n",
      "After_stem:  ['run', 'jump', 'quickli', 'fox', 'jump', 'unabl']\n"
     ]
    }
   ],
   "source": [
    "print(\"Original words: \",words)\n",
    "print(\"After_stem: \",after_stem)"
   ]
  },
  {
   "cell_type": "code",
   "execution_count": 8,
   "id": "64d048d8",
   "metadata": {},
   "outputs": [],
   "source": [
    "from nltk.stem import SnowballStemmer"
   ]
  },
  {
   "cell_type": "code",
   "execution_count": 9,
   "id": "79f233e7",
   "metadata": {},
   "outputs": [],
   "source": [
    "snw_stem=SnowballStemmer(language=\"english\")"
   ]
  },
  {
   "cell_type": "code",
   "execution_count": 10,
   "id": "366f874f",
   "metadata": {},
   "outputs": [],
   "source": [
    "after_stem1=[]\n",
    "for word1 in words:\n",
    "    new_word1=snw_stem.stem(word1)\n",
    "    after_stem1.append(new_word1)"
   ]
  },
  {
   "cell_type": "code",
   "execution_count": 11,
   "id": "5843bdda",
   "metadata": {},
   "outputs": [
    {
     "name": "stdout",
     "output_type": "stream",
     "text": [
      "Original words:  ['running', 'jumped', 'quickly', 'foxes', 'jumping', 'unable']\n",
      "After_stem:  ['run', 'jump', 'quick', 'fox', 'jump', 'unabl']\n"
     ]
    }
   ],
   "source": [
    "print(\"Original words: \",words)\n",
    "print(\"After_stem: \",after_stem1)"
   ]
  },
  {
   "cell_type": "markdown",
   "id": "7b727d08",
   "metadata": {},
   "source": [
    "# NOrmalization"
   ]
  },
  {
   "cell_type": "code",
   "execution_count": 12,
   "id": "70c22b0e",
   "metadata": {},
   "outputs": [],
   "source": [
    "string=\"          Guido van Rossum began working on Python in the late 1980s as a successor10 to the ABC. programming's language and first, released it in 1991 as Python 0.9.0.\""
   ]
  },
  {
   "cell_type": "markdown",
   "id": "c374f1f3",
   "metadata": {},
   "source": [
    "# Same Case"
   ]
  },
  {
   "cell_type": "code",
   "execution_count": 13,
   "id": "ab302617",
   "metadata": {},
   "outputs": [
    {
     "name": "stdout",
     "output_type": "stream",
     "text": [
      "          guido van rossum began working on python in the late 1980s as a successor10 to the abc. programming's language and first, released it in 1991 as python 0.9.0.\n"
     ]
    }
   ],
   "source": [
    "string1=string.lower()\n",
    "print(string1)"
   ]
  },
  {
   "cell_type": "markdown",
   "id": "e905e14c",
   "metadata": {},
   "source": [
    "# Remove Numbers"
   ]
  },
  {
   "cell_type": "code",
   "execution_count": 14,
   "id": "98846866",
   "metadata": {},
   "outputs": [],
   "source": [
    "import re"
   ]
  },
  {
   "cell_type": "code",
   "execution_count": 15,
   "id": "063e6a42",
   "metadata": {},
   "outputs": [
    {
     "name": "stdout",
     "output_type": "stream",
     "text": [
      "          guido van rossum began working on python in the late s as a successor to the abc. programming's language and first, released it in  as python ...\n"
     ]
    }
   ],
   "source": [
    "no_num_string=re.sub(r'\\d+',\"\",string1)\n",
    "print(no_num_string)"
   ]
  },
  {
   "cell_type": "markdown",
   "id": "7e6d1b6e",
   "metadata": {},
   "source": [
    "# Remove punctuations"
   ]
  },
  {
   "cell_type": "code",
   "execution_count": 16,
   "id": "b007000a",
   "metadata": {},
   "outputs": [
    {
     "name": "stdout",
     "output_type": "stream",
     "text": [
      "          guido van rossum began working on python in the late s as a successor to the abc programmings language and first released it in  as python \n"
     ]
    }
   ],
   "source": [
    "no_punc_str=re.sub(r'[^\\w\\s]','',no_num_string) ##Puntuation special character handling\n",
    "print(no_punc_str)"
   ]
  },
  {
   "cell_type": "markdown",
   "id": "6fa64c21",
   "metadata": {},
   "source": [
    "# REmove white spaces"
   ]
  },
  {
   "cell_type": "code",
   "execution_count": 17,
   "id": "2ee03a3a",
   "metadata": {},
   "outputs": [
    {
     "name": "stdout",
     "output_type": "stream",
     "text": [
      "guido van rossum began working on python in the late s as a successor to the abc programmings language and first released it in  as python\n"
     ]
    }
   ],
   "source": [
    "no_wt_str=no_punc_str.strip()\n",
    "print(no_wt_str)"
   ]
  },
  {
   "cell_type": "markdown",
   "id": "c4dcbc35",
   "metadata": {},
   "source": [
    "# Remove stoppers"
   ]
  },
  {
   "cell_type": "code",
   "execution_count": 18,
   "id": "e0325911",
   "metadata": {},
   "outputs": [],
   "source": [
    "#Example of stoppers - in,on etc.\n",
    "from nltk.corpus import stopwords"
   ]
  },
  {
   "cell_type": "code",
   "execution_count": 19,
   "id": "08374463",
   "metadata": {},
   "outputs": [
    {
     "name": "stderr",
     "output_type": "stream",
     "text": [
      "[nltk_data] Downloading package stopwords to\n",
      "[nltk_data]     C:\\Users\\smart\\AppData\\Roaming\\nltk_data...\n",
      "[nltk_data]   Package stopwords is already up-to-date!\n"
     ]
    },
    {
     "data": {
      "text/plain": [
       "True"
      ]
     },
     "execution_count": 19,
     "metadata": {},
     "output_type": "execute_result"
    }
   ],
   "source": [
    "nltk.download('stopwords')"
   ]
  },
  {
   "cell_type": "code",
   "execution_count": 27,
   "id": "f3fffcc5",
   "metadata": {},
   "outputs": [
    {
     "name": "stdout",
     "output_type": "stream",
     "text": [
      "{'that', 'me', 'which', 'while', 'so', 'same', 'shan', \"you'd\", 'her', 'are', 'hers', 'when', 'through', 'him', 'is', 'over', 'nor', 'can', 'o', 'then', 'how', 'more', 'own', 'has', 'now', \"wasn't\", 'if', 'mightn', 'weren', 'she', 'didn', 'doesn', 'did', 'where', 'most', \"hasn't\", 'ourselves', 'but', \"you're\", \"needn't\", 'to', 'below', 'as', 'out', \"don't\", 'hadn', \"couldn't\", 'the', 'such', 'before', 'shouldn', 'y', 'after', 'will', 'just', 'don', \"weren't\", 'my', 'further', 't', 'hasn', 'ma', 'because', 'myself', 'for', 've', \"shouldn't\", 'ours', 'no', 'into', 'all', 'won', 'am', \"hadn't\", 'there', 'above', 'on', 'by', 'some', \"shan't\", 'mustn', 'needn', \"it's\", 're', \"you've\", 'from', 'had', 'this', 'about', 'against', 'does', 'aren', 'any', 'what', \"mustn't\", 'those', 'why', 'until', 'you', 'd', 'm', 'both', 'wouldn', 'was', \"won't\", 'other', 'we', \"haven't\", 'a', 'or', 'too', 'themselves', 'their', 'being', 'doing', 'he', 'itself', 'were', 'with', 'haven', 'yourselves', 'very', \"doesn't\", 'be', 'been', \"isn't\", 'an', 'few', \"you'll\", \"that'll\", 'yours', 'himself', 'who', 'only', 'our', 'not', 'theirs', 'couldn', \"should've\", 'down', \"didn't\", 'they', 'whom', 'here', 's', \"mightn't\", 'it', 'than', 'of', 'll', 'wasn', 'its', 'each', 'his', 'in', 'again', 'having', 'and', 'under', 'up', 'during', 'at', 'off', \"aren't\", 'herself', 'yourself', \"wouldn't\", 'i', 'between', 'them', 'these', 'isn', 'should', 'ain', 'your', \"she's\", 'have', 'once', 'do'}\n"
     ]
    }
   ],
   "source": [
    "words3=set(stopwords.words(\"english\"))\n",
    "print(words3)"
   ]
  },
  {
   "cell_type": "code",
   "execution_count": 21,
   "id": "6f763dc1",
   "metadata": {},
   "outputs": [
    {
     "name": "stdout",
     "output_type": "stream",
     "text": [
      "['guido', 'van', 'rossum', 'began', 'working', 'on', 'python', 'in', 'the', 'late', 's', 'as', 'a', 'successor', 'to', 'the', 'abc', 'programmings', 'language', 'and', 'first', 'released', 'it', 'in', 'as', 'python']\n"
     ]
    }
   ],
   "source": [
    "list_str=no_wt_str.split()\n",
    "print(list_str)"
   ]
  },
  {
   "cell_type": "code",
   "execution_count": 28,
   "id": "c2509628",
   "metadata": {},
   "outputs": [
    {
     "name": "stdout",
     "output_type": "stream",
     "text": [
      "guido\n",
      "van\n",
      "rossum\n",
      "began\n",
      "working\n",
      "python\n",
      "late\n",
      "successor\n",
      "abc\n",
      "programmings\n",
      "language\n",
      "first\n",
      "released\n",
      "python\n"
     ]
    }
   ],
   "source": [
    "\n",
    "for i in list_str:\n",
    "    if not i in words3:\n",
    "        print(i)"
   ]
  },
  {
   "cell_type": "code",
   "execution_count": 23,
   "id": "a7d5e72d",
   "metadata": {},
   "outputs": [],
   "source": [
    "no_stp_str=\"\"\n",
    "for i in list_str:\n",
    "    if not i in words:\n",
    "        no_stp_str+=i+\" \""
   ]
  },
  {
   "cell_type": "code",
   "execution_count": 24,
   "id": "fd7029dd",
   "metadata": {},
   "outputs": [
    {
     "data": {
      "text/plain": [
       "'guido van rossum began working on python in the late s as a successor to the abc programmings language and first released it in as python '"
      ]
     },
     "execution_count": 24,
     "metadata": {},
     "output_type": "execute_result"
    }
   ],
   "source": [
    "no_stp_str"
   ]
  },
  {
   "cell_type": "code",
   "execution_count": 25,
   "id": "0653839a",
   "metadata": {},
   "outputs": [
    {
     "data": {
      "text/plain": [
       "'guido van rossum began working on python in the late s as a successor to the abc programmings language and first released it in as python'"
      ]
     },
     "execution_count": 25,
     "metadata": {},
     "output_type": "execute_result"
    }
   ],
   "source": [
    "no_stp_str[:-1]"
   ]
  },
  {
   "cell_type": "code",
   "execution_count": 2,
   "id": "a382c523",
   "metadata": {},
   "outputs": [],
   "source": [
    "int=[{1,2,3,4},{5,6,7,8},{9,10}]"
   ]
  },
  {
   "cell_type": "code",
   "execution_count": 3,
   "id": "c914214d",
   "metadata": {},
   "outputs": [
    {
     "name": "stdout",
     "output_type": "stream",
     "text": [
      "[{1, 2, 3, 4}, {8, 5, 6, 7}, {9, 10}]\n"
     ]
    }
   ],
   "source": [
    "print(int)"
   ]
  },
  {
   "cell_type": "code",
   "execution_count": null,
   "id": "8e70e67f",
   "metadata": {},
   "outputs": [],
   "source": []
  }
 ],
 "metadata": {
  "kernelspec": {
   "display_name": "Python 3 (ipykernel)",
   "language": "python",
   "name": "python3"
  },
  "language_info": {
   "codemirror_mode": {
    "name": "ipython",
    "version": 3
   },
   "file_extension": ".py",
   "mimetype": "text/x-python",
   "name": "python",
   "nbconvert_exporter": "python",
   "pygments_lexer": "ipython3",
   "version": "3.10.9"
  }
 },
 "nbformat": 4,
 "nbformat_minor": 5
}
